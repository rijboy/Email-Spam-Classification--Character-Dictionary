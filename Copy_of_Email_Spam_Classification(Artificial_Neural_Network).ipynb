{
  "nbformat": 4,
  "nbformat_minor": 0,
  "metadata": {
    "colab": {
      "name": "Copy of Email Spam Classification(Artificial Neural Network).ipynb",
      "version": "0.3.2",
      "provenance": [],
      "collapsed_sections": []
    },
    "kernelspec": {
      "name": "python3",
      "display_name": "Python 3"
    },
    "accelerator": "GPU"
  },
  "cells": [
    {
      "metadata": {
        "id": "Xpv1Uukr0cyg",
        "colab_type": "code",
        "colab": {}
      },
      "cell_type": "code",
      "source": [
        "import numpy as np\n",
        "import matplotlib.pyplot as plt\n",
        "import pandas as pd\n",
        "from sklearn.model_selection import train_test_split\n",
        "import re\n",
        "import nltk"
      ],
      "execution_count": 0,
      "outputs": []
    },
    {
      "metadata": {
        "id": "7LOvFc380gc-",
        "colab_type": "code",
        "outputId": "974b184c-d160-43c8-cd37-6a1ebcb4ac70",
        "colab": {
          "resources": {
            "http://localhost:8080/nbextensions/google.colab/files.js": {
              "data": "Ly8gQ29weXJpZ2h0IDIwMTcgR29vZ2xlIExMQwovLwovLyBMaWNlbnNlZCB1bmRlciB0aGUgQXBhY2hlIExpY2Vuc2UsIFZlcnNpb24gMi4wICh0aGUgIkxpY2Vuc2UiKTsKLy8geW91IG1heSBub3QgdXNlIHRoaXMgZmlsZSBleGNlcHQgaW4gY29tcGxpYW5jZSB3aXRoIHRoZSBMaWNlbnNlLgovLyBZb3UgbWF5IG9idGFpbiBhIGNvcHkgb2YgdGhlIExpY2Vuc2UgYXQKLy8KLy8gICAgICBodHRwOi8vd3d3LmFwYWNoZS5vcmcvbGljZW5zZXMvTElDRU5TRS0yLjAKLy8KLy8gVW5sZXNzIHJlcXVpcmVkIGJ5IGFwcGxpY2FibGUgbGF3IG9yIGFncmVlZCB0byBpbiB3cml0aW5nLCBzb2Z0d2FyZQovLyBkaXN0cmlidXRlZCB1bmRlciB0aGUgTGljZW5zZSBpcyBkaXN0cmlidXRlZCBvbiBhbiAiQVMgSVMiIEJBU0lTLAovLyBXSVRIT1VUIFdBUlJBTlRJRVMgT1IgQ09ORElUSU9OUyBPRiBBTlkgS0lORCwgZWl0aGVyIGV4cHJlc3Mgb3IgaW1wbGllZC4KLy8gU2VlIHRoZSBMaWNlbnNlIGZvciB0aGUgc3BlY2lmaWMgbGFuZ3VhZ2UgZ292ZXJuaW5nIHBlcm1pc3Npb25zIGFuZAovLyBsaW1pdGF0aW9ucyB1bmRlciB0aGUgTGljZW5zZS4KCi8qKgogKiBAZmlsZW92ZXJ2aWV3IEhlbHBlcnMgZm9yIGdvb2dsZS5jb2xhYiBQeXRob24gbW9kdWxlLgogKi8KKGZ1bmN0aW9uKHNjb3BlKSB7CmZ1bmN0aW9uIHNwYW4odGV4dCwgc3R5bGVBdHRyaWJ1dGVzID0ge30pIHsKICBjb25zdCBlbGVtZW50ID0gZG9jdW1lbnQuY3JlYXRlRWxlbWVudCgnc3BhbicpOwogIGVsZW1lbnQudGV4dENvbnRlbnQgPSB0ZXh0OwogIGZvciAoY29uc3Qga2V5IG9mIE9iamVjdC5rZXlzKHN0eWxlQXR0cmlidXRlcykpIHsKICAgIGVsZW1lbnQuc3R5bGVba2V5XSA9IHN0eWxlQXR0cmlidXRlc1trZXldOwogIH0KICByZXR1cm4gZWxlbWVudDsKfQoKLy8gTWF4IG51bWJlciBvZiBieXRlcyB3aGljaCB3aWxsIGJlIHVwbG9hZGVkIGF0IGEgdGltZS4KY29uc3QgTUFYX1BBWUxPQURfU0laRSA9IDEwMCAqIDEwMjQ7Ci8vIE1heCBhbW91bnQgb2YgdGltZSB0byBibG9jayB3YWl0aW5nIGZvciB0aGUgdXNlci4KY29uc3QgRklMRV9DSEFOR0VfVElNRU9VVF9NUyA9IDMwICogMTAwMDsKCmZ1bmN0aW9uIF91cGxvYWRGaWxlcyhpbnB1dElkLCBvdXRwdXRJZCkgewogIGNvbnN0IHN0ZXBzID0gdXBsb2FkRmlsZXNTdGVwKGlucHV0SWQsIG91dHB1dElkKTsKICBjb25zdCBvdXRwdXRFbGVtZW50ID0gZG9jdW1lbnQuZ2V0RWxlbWVudEJ5SWQob3V0cHV0SWQpOwogIC8vIENhY2hlIHN0ZXBzIG9uIHRoZSBvdXRwdXRFbGVtZW50IHRvIG1ha2UgaXQgYXZhaWxhYmxlIGZvciB0aGUgbmV4dCBjYWxsCiAgLy8gdG8gdXBsb2FkRmlsZXNDb250aW51ZSBmcm9tIFB5dGhvbi4KICBvdXRwdXRFbGVtZW50LnN0ZXBzID0gc3RlcHM7CgogIHJldHVybiBfdXBsb2FkRmlsZXNDb250aW51ZShvdXRwdXRJZCk7Cn0KCi8vIFRoaXMgaXMgcm91Z2hseSBhbiBhc3luYyBnZW5lcmF0b3IgKG5vdCBzdXBwb3J0ZWQgaW4gdGhlIGJyb3dzZXIgeWV0KSwKLy8gd2hlcmUgdGhlcmUgYXJlIG11bHRpcGxlIGFzeW5jaHJvbm91cyBzdGVwcyBhbmQgdGhlIFB5dGhvbiBzaWRlIGlzIGdvaW5nCi8vIHRvIHBvbGwgZm9yIGNvbXBsZXRpb24gb2YgZWFjaCBzdGVwLgovLyBUaGlzIHVzZXMgYSBQcm9taXNlIHRvIGJsb2NrIHRoZSBweXRob24gc2lkZSBvbiBjb21wbGV0aW9uIG9mIGVhY2ggc3RlcCwKLy8gdGhlbiBwYXNzZXMgdGhlIHJlc3VsdCBvZiB0aGUgcHJldmlvdXMgc3RlcCBhcyB0aGUgaW5wdXQgdG8gdGhlIG5leHQgc3RlcC4KZnVuY3Rpb24gX3VwbG9hZEZpbGVzQ29udGludWUob3V0cHV0SWQpIHsKICBjb25zdCBvdXRwdXRFbGVtZW50ID0gZG9jdW1lbnQuZ2V0RWxlbWVudEJ5SWQob3V0cHV0SWQpOwogIGNvbnN0IHN0ZXBzID0gb3V0cHV0RWxlbWVudC5zdGVwczsKCiAgY29uc3QgbmV4dCA9IHN0ZXBzLm5leHQob3V0cHV0RWxlbWVudC5sYXN0UHJvbWlzZVZhbHVlKTsKICByZXR1cm4gUHJvbWlzZS5yZXNvbHZlKG5leHQudmFsdWUucHJvbWlzZSkudGhlbigodmFsdWUpID0+IHsKICAgIC8vIENhY2hlIHRoZSBsYXN0IHByb21pc2UgdmFsdWUgdG8gbWFrZSBpdCBhdmFpbGFibGUgdG8gdGhlIG5leHQKICAgIC8vIHN0ZXAgb2YgdGhlIGdlbmVyYXRvci4KICAgIG91dHB1dEVsZW1lbnQubGFzdFByb21pc2VWYWx1ZSA9IHZhbHVlOwogICAgcmV0dXJuIG5leHQudmFsdWUucmVzcG9uc2U7CiAgfSk7Cn0KCi8qKgogKiBHZW5lcmF0b3IgZnVuY3Rpb24gd2hpY2ggaXMgY2FsbGVkIGJldHdlZW4gZWFjaCBhc3luYyBzdGVwIG9mIHRoZSB1cGxvYWQKICogcHJvY2Vzcy4KICogQHBhcmFtIHtzdHJpbmd9IGlucHV0SWQgRWxlbWVudCBJRCBvZiB0aGUgaW5wdXQgZmlsZSBwaWNrZXIgZWxlbWVudC4KICogQHBhcmFtIHtzdHJpbmd9IG91dHB1dElkIEVsZW1lbnQgSUQgb2YgdGhlIG91dHB1dCBkaXNwbGF5LgogKiBAcmV0dXJuIHshSXRlcmFibGU8IU9iamVjdD59IEl0ZXJhYmxlIG9mIG5leHQgc3RlcHMuCiAqLwpmdW5jdGlvbiogdXBsb2FkRmlsZXNTdGVwKGlucHV0SWQsIG91dHB1dElkKSB7CiAgY29uc3QgaW5wdXRFbGVtZW50ID0gZG9jdW1lbnQuZ2V0RWxlbWVudEJ5SWQoaW5wdXRJZCk7CiAgaW5wdXRFbGVtZW50LmRpc2FibGVkID0gZmFsc2U7CgogIGNvbnN0IG91dHB1dEVsZW1lbnQgPSBkb2N1bWVudC5nZXRFbGVtZW50QnlJZChvdXRwdXRJZCk7CiAgb3V0cHV0RWxlbWVudC5pbm5lckhUTUwgPSAnJzsKCiAgY29uc3QgcGlja2VkUHJvbWlzZSA9IG5ldyBQcm9taXNlKChyZXNvbHZlKSA9PiB7CiAgICBpbnB1dEVsZW1lbnQuYWRkRXZlbnRMaXN0ZW5lcignY2hhbmdlJywgKGUpID0+IHsKICAgICAgcmVzb2x2ZShlLnRhcmdldC5maWxlcyk7CiAgICB9KTsKICB9KTsKCiAgY29uc3QgY2FuY2VsID0gZG9jdW1lbnQuY3JlYXRlRWxlbWVudCgnYnV0dG9uJyk7CiAgaW5wdXRFbGVtZW50LnBhcmVudEVsZW1lbnQuYXBwZW5kQ2hpbGQoY2FuY2VsKTsKICBjYW5jZWwudGV4dENvbnRlbnQgPSAnQ2FuY2VsIHVwbG9hZCc7CiAgY29uc3QgY2FuY2VsUHJvbWlzZSA9IG5ldyBQcm9taXNlKChyZXNvbHZlKSA9PiB7CiAgICBjYW5jZWwub25jbGljayA9ICgpID0+IHsKICAgICAgcmVzb2x2ZShudWxsKTsKICAgIH07CiAgfSk7CgogIC8vIENhbmNlbCB1cGxvYWQgaWYgdXNlciBoYXNuJ3QgcGlja2VkIGFueXRoaW5nIGluIHRpbWVvdXQuCiAgY29uc3QgdGltZW91dFByb21pc2UgPSBuZXcgUHJvbWlzZSgocmVzb2x2ZSkgPT4gewogICAgc2V0VGltZW91dCgoKSA9PiB7CiAgICAgIHJlc29sdmUobnVsbCk7CiAgICB9LCBGSUxFX0NIQU5HRV9USU1FT1VUX01TKTsKICB9KTsKCiAgLy8gV2FpdCBmb3IgdGhlIHVzZXIgdG8gcGljayB0aGUgZmlsZXMuCiAgY29uc3QgZmlsZXMgPSB5aWVsZCB7CiAgICBwcm9taXNlOiBQcm9taXNlLnJhY2UoW3BpY2tlZFByb21pc2UsIHRpbWVvdXRQcm9taXNlLCBjYW5jZWxQcm9taXNlXSksCiAgICByZXNwb25zZTogewogICAgICBhY3Rpb246ICdzdGFydGluZycsCiAgICB9CiAgfTsKCiAgaWYgKCFmaWxlcykgewogICAgcmV0dXJuIHsKICAgICAgcmVzcG9uc2U6IHsKICAgICAgICBhY3Rpb246ICdjb21wbGV0ZScsCiAgICAgIH0KICAgIH07CiAgfQoKICBjYW5jZWwucmVtb3ZlKCk7CgogIC8vIERpc2FibGUgdGhlIGlucHV0IGVsZW1lbnQgc2luY2UgZnVydGhlciBwaWNrcyBhcmUgbm90IGFsbG93ZWQuCiAgaW5wdXRFbGVtZW50LmRpc2FibGVkID0gdHJ1ZTsKCiAgZm9yIChjb25zdCBmaWxlIG9mIGZpbGVzKSB7CiAgICBjb25zdCBsaSA9IGRvY3VtZW50LmNyZWF0ZUVsZW1lbnQoJ2xpJyk7CiAgICBsaS5hcHBlbmQoc3BhbihmaWxlLm5hbWUsIHtmb250V2VpZ2h0OiAnYm9sZCd9KSk7CiAgICBsaS5hcHBlbmQoc3BhbigKICAgICAgICBgKCR7ZmlsZS50eXBlIHx8ICduL2EnfSkgLSAke2ZpbGUuc2l6ZX0gYnl0ZXMsIGAgKwogICAgICAgIGBsYXN0IG1vZGlmaWVkOiAkewogICAgICAgICAgICBmaWxlLmxhc3RNb2RpZmllZERhdGUgPyBmaWxlLmxhc3RNb2RpZmllZERhdGUudG9Mb2NhbGVEYXRlU3RyaW5nKCkgOgogICAgICAgICAgICAgICAgICAgICAgICAgICAgICAgICAgICAnbi9hJ30gLSBgKSk7CiAgICBjb25zdCBwZXJjZW50ID0gc3BhbignMCUgZG9uZScpOwogICAgbGkuYXBwZW5kQ2hpbGQocGVyY2VudCk7CgogICAgb3V0cHV0RWxlbWVudC5hcHBlbmRDaGlsZChsaSk7CgogICAgY29uc3QgZmlsZURhdGFQcm9taXNlID0gbmV3IFByb21pc2UoKHJlc29sdmUpID0+IHsKICAgICAgY29uc3QgcmVhZGVyID0gbmV3IEZpbGVSZWFkZXIoKTsKICAgICAgcmVhZGVyLm9ubG9hZCA9IChlKSA9PiB7CiAgICAgICAgcmVzb2x2ZShlLnRhcmdldC5yZXN1bHQpOwogICAgICB9OwogICAgICByZWFkZXIucmVhZEFzQXJyYXlCdWZmZXIoZmlsZSk7CiAgICB9KTsKICAgIC8vIFdhaXQgZm9yIHRoZSBkYXRhIHRvIGJlIHJlYWR5LgogICAgbGV0IGZpbGVEYXRhID0geWllbGQgewogICAgICBwcm9taXNlOiBmaWxlRGF0YVByb21pc2UsCiAgICAgIHJlc3BvbnNlOiB7CiAgICAgICAgYWN0aW9uOiAnY29udGludWUnLAogICAgICB9CiAgICB9OwoKICAgIC8vIFVzZSBhIGNodW5rZWQgc2VuZGluZyB0byBhdm9pZCBtZXNzYWdlIHNpemUgbGltaXRzLiBTZWUgYi82MjExNTY2MC4KICAgIGxldCBwb3NpdGlvbiA9IDA7CiAgICB3aGlsZSAocG9zaXRpb24gPCBmaWxlRGF0YS5ieXRlTGVuZ3RoKSB7CiAgICAgIGNvbnN0IGxlbmd0aCA9IE1hdGgubWluKGZpbGVEYXRhLmJ5dGVMZW5ndGggLSBwb3NpdGlvbiwgTUFYX1BBWUxPQURfU0laRSk7CiAgICAgIGNvbnN0IGNodW5rID0gbmV3IFVpbnQ4QXJyYXkoZmlsZURhdGEsIHBvc2l0aW9uLCBsZW5ndGgpOwogICAgICBwb3NpdGlvbiArPSBsZW5ndGg7CgogICAgICBjb25zdCBiYXNlNjQgPSBidG9hKFN0cmluZy5mcm9tQ2hhckNvZGUuYXBwbHkobnVsbCwgY2h1bmspKTsKICAgICAgeWllbGQgewogICAgICAgIHJlc3BvbnNlOiB7CiAgICAgICAgICBhY3Rpb246ICdhcHBlbmQnLAogICAgICAgICAgZmlsZTogZmlsZS5uYW1lLAogICAgICAgICAgZGF0YTogYmFzZTY0LAogICAgICAgIH0sCiAgICAgIH07CiAgICAgIHBlcmNlbnQudGV4dENvbnRlbnQgPQogICAgICAgICAgYCR7TWF0aC5yb3VuZCgocG9zaXRpb24gLyBmaWxlRGF0YS5ieXRlTGVuZ3RoKSAqIDEwMCl9JSBkb25lYDsKICAgIH0KICB9CgogIC8vIEFsbCBkb25lLgogIHlpZWxkIHsKICAgIHJlc3BvbnNlOiB7CiAgICAgIGFjdGlvbjogJ2NvbXBsZXRlJywKICAgIH0KICB9Owp9CgpzY29wZS5nb29nbGUgPSBzY29wZS5nb29nbGUgfHwge307CnNjb3BlLmdvb2dsZS5jb2xhYiA9IHNjb3BlLmdvb2dsZS5jb2xhYiB8fCB7fTsKc2NvcGUuZ29vZ2xlLmNvbGFiLl9maWxlcyA9IHsKICBfdXBsb2FkRmlsZXMsCiAgX3VwbG9hZEZpbGVzQ29udGludWUsCn07Cn0pKHNlbGYpOwo=",
              "ok": true,
              "headers": [
                [
                  "content-type",
                  "application/javascript"
                ]
              ],
              "status": 200,
              "status_text": ""
            }
          },
          "base_uri": "https://localhost:8080/",
          "height": 73
        }
      },
      "cell_type": "code",
      "source": [
        "from google.colab import files\n",
        "uploaded = files.upload()"
      ],
      "execution_count": 0,
      "outputs": [
        {
          "output_type": "display_data",
          "data": {
            "text/html": [
              "\n",
              "     <input type=\"file\" id=\"files-28253f06-01d7-4204-90ea-fab34444b4ef\" name=\"files[]\" multiple disabled />\n",
              "     <output id=\"result-28253f06-01d7-4204-90ea-fab34444b4ef\">\n",
              "      Upload widget is only available when the cell has been executed in the\n",
              "      current browser session. Please rerun this cell to enable.\n",
              "      </output>\n",
              "      <script src=\"/nbextensions/google.colab/files.js\"></script> "
            ],
            "text/plain": [
              "<IPython.core.display.HTML object>"
            ]
          },
          "metadata": {
            "tags": []
          }
        },
        {
          "output_type": "stream",
          "text": [
            "Saving SMSSpamCollection.tsv to SMSSpamCollection (3).tsv\n"
          ],
          "name": "stdout"
        }
      ]
    },
    {
      "metadata": {
        "id": "dq_19ICv1mkw",
        "colab_type": "code",
        "colab": {}
      },
      "cell_type": "code",
      "source": [
        "import io\n",
        "data = pd.read_table(io.StringIO(uploaded['SMSSpamCollection.tsv'].decode('utf-8')),names=['label','text'])"
      ],
      "execution_count": 0,
      "outputs": []
    },
    {
      "metadata": {
        "id": "BQi-OVmz2Pem",
        "colab_type": "code",
        "outputId": "43b7e7ec-1591-435d-a83a-0de4ee1bd35f",
        "colab": {
          "base_uri": "https://localhost:8080/",
          "height": 195
        }
      },
      "cell_type": "code",
      "source": [
        "data.head(5)"
      ],
      "execution_count": 0,
      "outputs": [
        {
          "output_type": "execute_result",
          "data": {
            "text/html": [
              "<div>\n",
              "<style scoped>\n",
              "    .dataframe tbody tr th:only-of-type {\n",
              "        vertical-align: middle;\n",
              "    }\n",
              "\n",
              "    .dataframe tbody tr th {\n",
              "        vertical-align: top;\n",
              "    }\n",
              "\n",
              "    .dataframe thead th {\n",
              "        text-align: right;\n",
              "    }\n",
              "</style>\n",
              "<table border=\"1\" class=\"dataframe\">\n",
              "  <thead>\n",
              "    <tr style=\"text-align: right;\">\n",
              "      <th></th>\n",
              "      <th>label</th>\n",
              "      <th>text</th>\n",
              "    </tr>\n",
              "  </thead>\n",
              "  <tbody>\n",
              "    <tr>\n",
              "      <th>0</th>\n",
              "      <td>ham</td>\n",
              "      <td>Go until jurong point, crazy.. Available only ...</td>\n",
              "    </tr>\n",
              "    <tr>\n",
              "      <th>1</th>\n",
              "      <td>ham</td>\n",
              "      <td>Ok lar... Joking wif u oni...</td>\n",
              "    </tr>\n",
              "    <tr>\n",
              "      <th>2</th>\n",
              "      <td>spam</td>\n",
              "      <td>Free entry in 2 a wkly comp to win FA Cup fina...</td>\n",
              "    </tr>\n",
              "    <tr>\n",
              "      <th>3</th>\n",
              "      <td>ham</td>\n",
              "      <td>U dun say so early hor... U c already then say...</td>\n",
              "    </tr>\n",
              "    <tr>\n",
              "      <th>4</th>\n",
              "      <td>ham</td>\n",
              "      <td>Nah I don't think he goes to usf, he lives aro...</td>\n",
              "    </tr>\n",
              "  </tbody>\n",
              "</table>\n",
              "</div>"
            ],
            "text/plain": [
              "  label                                               text\n",
              "0   ham  Go until jurong point, crazy.. Available only ...\n",
              "1   ham                      Ok lar... Joking wif u oni...\n",
              "2  spam  Free entry in 2 a wkly comp to win FA Cup fina...\n",
              "3   ham  U dun say so early hor... U c already then say...\n",
              "4   ham  Nah I don't think he goes to usf, he lives aro..."
            ]
          },
          "metadata": {
            "tags": []
          },
          "execution_count": 4
        }
      ]
    },
    {
      "metadata": {
        "id": "u_jLu_nO2RXY",
        "colab_type": "code",
        "outputId": "8ae38c3f-0a1d-4eb1-a220-fe6ee2303769",
        "colab": {
          "base_uri": "https://localhost:8080/",
          "height": 50
        }
      },
      "cell_type": "code",
      "source": [
        "import nltk\n",
        "nltk.download('stopwords')\n",
        "from nltk.corpus import stopwords"
      ],
      "execution_count": 0,
      "outputs": [
        {
          "output_type": "stream",
          "text": [
            "[nltk_data] Downloading package stopwords to /root/nltk_data...\n",
            "[nltk_data]   Package stopwords is already up-to-date!\n"
          ],
          "name": "stdout"
        }
      ]
    },
    {
      "metadata": {
        "id": "P1MU9Hst2blh",
        "colab_type": "code",
        "colab": {}
      },
      "cell_type": "code",
      "source": [
        "REPLACE_BY_SPACE_RE = re.compile('[/(){}\\[\\]\\|@,;]')\n",
        "BAD_SYMBOLS_RE = re.compile('[^0-9a-z #+_]')\n",
        "STOPWORDS = set(stopwords.words('english'))\n",
        "\n",
        "def text_prepare(text):\n",
        "    \"\"\"\n",
        "        text: a string\n",
        "        \n",
        "        return: modified initial string\n",
        "    \"\"\"\n",
        "    text = text.lower()#Lower Text\n",
        "    text = re.sub(REPLACE_BY_SPACE_RE,' ',text)# replace REPLACE_BY_SPACE_RE symbols by space in text\n",
        "    text = re.sub(BAD_SYMBOLS_RE,'',text)# delete symbols which are in BAD_SYMBOLS_RE from text\n",
        "    text = ' '.join(word for word in text.split() if word not in STOPWORDS)# delete stopwords from text\n",
        "    return text"
      ],
      "execution_count": 0,
      "outputs": []
    },
    {
      "metadata": {
        "id": "gnmZy9PM2gjs",
        "colab_type": "code",
        "colab": {}
      },
      "cell_type": "code",
      "source": [
        "#X_train,X_test,Y_train,Y_test=train_test_split(data['text'],data['label'],test_size=0.2,random_state=42)"
      ],
      "execution_count": 0,
      "outputs": []
    },
    {
      "metadata": {
        "id": "JT_I4DSd3K_r",
        "colab_type": "code",
        "colab": {}
      },
      "cell_type": "code",
      "source": [
        "#X_train.head(5)"
      ],
      "execution_count": 0,
      "outputs": []
    },
    {
      "metadata": {
        "id": "2mQg_YGQ3QAC",
        "colab_type": "code",
        "colab": {}
      },
      "cell_type": "code",
      "source": [
        "#Y_train.head(5)"
      ],
      "execution_count": 0,
      "outputs": []
    },
    {
      "metadata": {
        "id": "_sDA6GRa3V7o",
        "colab_type": "code",
        "colab": {}
      },
      "cell_type": "code",
      "source": [
        "X=[text_prepare(x) for x in data['text']]\n",
        "#X_test=[text_prepare(x) for x in X_test]"
      ],
      "execution_count": 0,
      "outputs": []
    },
    {
      "metadata": {
        "id": "NDSXZGDH3-BC",
        "colab_type": "code",
        "outputId": "49dfa788-0a69-470d-dbe0-c70eef945124",
        "colab": {
          "base_uri": "https://localhost:8080/",
          "height": 67
        }
      },
      "cell_type": "code",
      "source": [
        "X[0:3]"
      ],
      "execution_count": 0,
      "outputs": [
        {
          "output_type": "execute_result",
          "data": {
            "text/plain": [
              "['go jurong point crazy available bugis n great world la e buffet cine got amore wat',\n",
              " 'ok lar joking wif u oni',\n",
              " 'free entry 2 wkly comp win fa cup final tkts 21st may 2005 text fa 87121 receive entry question std txt rate tcs apply 08452810075over18s']"
            ]
          },
          "metadata": {
            "tags": []
          },
          "execution_count": 8
        }
      ]
    },
    {
      "metadata": {
        "id": "tPKq9COE4BEh",
        "colab_type": "code",
        "outputId": "543e1461-f097-4d87-e0bf-3b9cee83145e",
        "colab": {
          "base_uri": "https://localhost:8080/",
          "height": 67
        }
      },
      "cell_type": "code",
      "source": [
        "input_text=[]\n",
        "input_character=[]\n",
        "input_text=X\n",
        "input_text[0:3]\n"
      ],
      "execution_count": 0,
      "outputs": [
        {
          "output_type": "execute_result",
          "data": {
            "text/plain": [
              "['go jurong point crazy available bugis n great world la e buffet cine got amore wat',\n",
              " 'ok lar joking wif u oni',\n",
              " 'free entry 2 wkly comp win fa cup final tkts 21st may 2005 text fa 87121 receive entry question std txt rate tcs apply 08452810075over18s']"
            ]
          },
          "metadata": {
            "tags": []
          },
          "execution_count": 9
        }
      ]
    },
    {
      "metadata": {
        "id": "UA-kepDs6Hfy",
        "colab_type": "code",
        "colab": {}
      },
      "cell_type": "code",
      "source": [
        "for text in input_text:\n",
        "  #print(text)\n",
        "  for char in text:\n",
        "    #print(char)\n",
        "    if char not in input_character:\n",
        "      input_character.append(char)"
      ],
      "execution_count": 0,
      "outputs": []
    },
    {
      "metadata": {
        "id": "hJJU4FNC6gL9",
        "colab_type": "code",
        "outputId": "340dda5c-1dcf-41f5-92ff-ac1be1cbbbad",
        "colab": {
          "base_uri": "https://localhost:8080/",
          "height": 34
        }
      },
      "cell_type": "code",
      "source": [
        "input_character[0:9]"
      ],
      "execution_count": 0,
      "outputs": [
        {
          "output_type": "execute_result",
          "data": {
            "text/plain": [
              "['g', 'o', ' ', 'j', 'u', 'r', 'n', 'p', 'i']"
            ]
          },
          "metadata": {
            "tags": []
          },
          "execution_count": 11
        }
      ]
    },
    {
      "metadata": {
        "id": "MxY80vZL8MPZ",
        "colab_type": "code",
        "outputId": "62130a1d-2689-433d-98ab-2947a852e91e",
        "colab": {
          "base_uri": "https://localhost:8080/",
          "height": 34
        }
      },
      "cell_type": "code",
      "source": [
        "input_character=sorted(list(input_character))\n",
        "max_text_length=max([len(txt) for txt in input_text])\n",
        "num_encoder_token=len(input_character)\n",
        "max_text_length"
      ],
      "execution_count": 0,
      "outputs": [
        {
          "output_type": "execute_result",
          "data": {
            "text/plain": [
              "516"
            ]
          },
          "metadata": {
            "tags": []
          },
          "execution_count": 12
        }
      ]
    },
    {
      "metadata": {
        "id": "MctZM9xk8ux2",
        "colab_type": "code",
        "colab": {}
      },
      "cell_type": "code",
      "source": [
        "input_token_index = dict(\n",
        "    [(char, i) for i, char in enumerate(input_character)])"
      ],
      "execution_count": 0,
      "outputs": []
    },
    {
      "metadata": {
        "id": "6aExDx5T979E",
        "colab_type": "code",
        "outputId": "65715af6-05b0-4477-ddd9-dfdd1b1ff0ea",
        "colab": {
          "base_uri": "https://localhost:8080/",
          "height": 34
        }
      },
      "cell_type": "code",
      "source": [
        "input_token_index['g']"
      ],
      "execution_count": 0,
      "outputs": [
        {
          "output_type": "execute_result",
          "data": {
            "text/plain": [
              "20"
            ]
          },
          "metadata": {
            "tags": []
          },
          "execution_count": 14
        }
      ]
    },
    {
      "metadata": {
        "id": "5tJy0pz7-DY4",
        "colab_type": "code",
        "outputId": "8ab58812-ea6c-42ed-83fc-2c78e3c3523a",
        "colab": {
          "base_uri": "https://localhost:8080/",
          "height": 34
        }
      },
      "cell_type": "code",
      "source": [
        "row=len(input_text)\n",
        "row"
      ],
      "execution_count": 0,
      "outputs": [
        {
          "output_type": "execute_result",
          "data": {
            "text/plain": [
              "5572"
            ]
          },
          "metadata": {
            "tags": []
          },
          "execution_count": 15
        }
      ]
    },
    {
      "metadata": {
        "id": "jboVkly6-Rxd",
        "colab_type": "code",
        "outputId": "30f43eca-300d-47cd-a46a-e943399ed0e3",
        "colab": {
          "base_uri": "https://localhost:8080/",
          "height": 34
        }
      },
      "cell_type": "code",
      "source": [
        "bow=np.zeros((row,num_encoder_token))\n",
        "bow.shape"
      ],
      "execution_count": 0,
      "outputs": [
        {
          "output_type": "execute_result",
          "data": {
            "text/plain": [
              "(5572, 40)"
            ]
          },
          "metadata": {
            "tags": []
          },
          "execution_count": 16
        }
      ]
    },
    {
      "metadata": {
        "id": "x1oMO_i7-90O",
        "colab_type": "code",
        "colab": {}
      },
      "cell_type": "code",
      "source": [
        "for i, text in enumerate(input_text):\n",
        "  for char in text:\n",
        "    bow[i,input_token_index[char]]=1;"
      ],
      "execution_count": 0,
      "outputs": []
    },
    {
      "metadata": {
        "id": "IKsL3Lk2JcsT",
        "colab_type": "code",
        "outputId": "3e040492-a4f6-446b-ffa8-359218272475",
        "colab": {
          "base_uri": "https://localhost:8080/",
          "height": 34
        }
      },
      "cell_type": "code",
      "source": [
        "bow[0,0]"
      ],
      "execution_count": 0,
      "outputs": [
        {
          "output_type": "execute_result",
          "data": {
            "text/plain": [
              "1.0"
            ]
          },
          "metadata": {
            "tags": []
          },
          "execution_count": 18
        }
      ]
    },
    {
      "metadata": {
        "id": "jj20PHO8JmgV",
        "colab_type": "code",
        "colab": {}
      },
      "cell_type": "code",
      "source": [
        "class1=[]\n",
        "binary=[]\n",
        "for i in data['label']:\n",
        "  class1.append(i)\n",
        "length_class1=len(class1)\n",
        "for i in range(0,length_class1):\n",
        "  if(class1[i]=='ham'):\n",
        "    binary.append(0)\n",
        "  else:\n",
        "    binary.append(1)"
      ],
      "execution_count": 0,
      "outputs": []
    },
    {
      "metadata": {
        "id": "9GmGDe1sKVRh",
        "colab_type": "code",
        "outputId": "31ff756e-265c-4c7f-caa1-342a106b2e6a",
        "colab": {
          "base_uri": "https://localhost:8080/",
          "height": 134
        }
      },
      "cell_type": "code",
      "source": [
        "bow"
      ],
      "execution_count": 0,
      "outputs": [
        {
          "output_type": "execute_result",
          "data": {
            "text/plain": [
              "array([[1., 0., 0., ..., 0., 1., 1.],\n",
              "       [1., 0., 0., ..., 0., 0., 0.],\n",
              "       [1., 0., 0., ..., 1., 1., 0.],\n",
              "       ...,\n",
              "       [1., 0., 0., ..., 0., 1., 0.],\n",
              "       [1., 0., 0., ..., 1., 1., 0.],\n",
              "       [1., 0., 0., ..., 0., 0., 0.]])"
            ]
          },
          "metadata": {
            "tags": []
          },
          "execution_count": 144
        }
      ]
    },
    {
      "metadata": {
        "id": "KymgQ0gLKtQJ",
        "colab_type": "code",
        "colab": {}
      },
      "cell_type": "code",
      "source": [
        "w=pd.DataFrame(data=bow)"
      ],
      "execution_count": 0,
      "outputs": []
    },
    {
      "metadata": {
        "id": "expS45Ryb1BB",
        "colab_type": "code",
        "colab": {}
      },
      "cell_type": "code",
      "source": [
        "q=pd.DataFrame(data=binary)"
      ],
      "execution_count": 0,
      "outputs": []
    },
    {
      "metadata": {
        "id": "NqfwDFmxeqks",
        "colab_type": "code",
        "outputId": "86328da9-3c0c-4575-f938-4ecc6c9cb573",
        "colab": {
          "base_uri": "https://localhost:8080/",
          "height": 34
        }
      },
      "cell_type": "code",
      "source": [
        "X=w\n",
        "Y=q\n",
        "X.shape"
      ],
      "execution_count": 0,
      "outputs": [
        {
          "output_type": "execute_result",
          "data": {
            "text/plain": [
              "(5572, 40)"
            ]
          },
          "metadata": {
            "tags": []
          },
          "execution_count": 22
        }
      ]
    },
    {
      "metadata": {
        "id": "8ndnZ3hOfawT",
        "colab_type": "code",
        "outputId": "fdd56d78-1315-4a7c-b61a-42a0d5b06408",
        "colab": {
          "base_uri": "https://localhost:8080/",
          "height": 224
        }
      },
      "cell_type": "code",
      "source": [
        "X_train,X_test=train_test_split(X,test_size=0.2,random_state=42)\n",
        "Y_train,Y_test=train_test_split(Y,test_size=0.2,random_state=42)\n",
        "\n",
        "#X_train=pd.DataFrame(data=X_train,index=[i for i in range(4457)])\n",
        "#Y_train=pd.DataFrame(data=Y_train,index=[i for i in range(4457)])\n",
        "#X_test=pd.DataFrame(data=X_test,index=[i for i in range(1115)])\n",
        "#Y_test=pd.DataFrame(data=Y_test,index=[i for i in range(1115)])\n",
        "X_train.head(5)\n",
        "\n"
      ],
      "execution_count": 0,
      "outputs": [
        {
          "output_type": "execute_result",
          "data": {
            "text/html": [
              "<div>\n",
              "<style scoped>\n",
              "    .dataframe tbody tr th:only-of-type {\n",
              "        vertical-align: middle;\n",
              "    }\n",
              "\n",
              "    .dataframe tbody tr th {\n",
              "        vertical-align: top;\n",
              "    }\n",
              "\n",
              "    .dataframe thead th {\n",
              "        text-align: right;\n",
              "    }\n",
              "</style>\n",
              "<table border=\"1\" class=\"dataframe\">\n",
              "  <thead>\n",
              "    <tr style=\"text-align: right;\">\n",
              "      <th></th>\n",
              "      <th>0</th>\n",
              "      <th>1</th>\n",
              "      <th>2</th>\n",
              "      <th>3</th>\n",
              "      <th>4</th>\n",
              "      <th>5</th>\n",
              "      <th>6</th>\n",
              "      <th>7</th>\n",
              "      <th>8</th>\n",
              "      <th>9</th>\n",
              "      <th>...</th>\n",
              "      <th>30</th>\n",
              "      <th>31</th>\n",
              "      <th>32</th>\n",
              "      <th>33</th>\n",
              "      <th>34</th>\n",
              "      <th>35</th>\n",
              "      <th>36</th>\n",
              "      <th>37</th>\n",
              "      <th>38</th>\n",
              "      <th>39</th>\n",
              "    </tr>\n",
              "  </thead>\n",
              "  <tbody>\n",
              "    <tr>\n",
              "      <th>1978</th>\n",
              "      <td>1.0</td>\n",
              "      <td>0.0</td>\n",
              "      <td>0.0</td>\n",
              "      <td>1.0</td>\n",
              "      <td>1.0</td>\n",
              "      <td>1.0</td>\n",
              "      <td>1.0</td>\n",
              "      <td>0.0</td>\n",
              "      <td>0.0</td>\n",
              "      <td>1.0</td>\n",
              "      <td>...</td>\n",
              "      <td>0.0</td>\n",
              "      <td>1.0</td>\n",
              "      <td>1.0</td>\n",
              "      <td>1.0</td>\n",
              "      <td>1.0</td>\n",
              "      <td>1.0</td>\n",
              "      <td>1.0</td>\n",
              "      <td>0.0</td>\n",
              "      <td>1.0</td>\n",
              "      <td>0.0</td>\n",
              "    </tr>\n",
              "    <tr>\n",
              "      <th>3989</th>\n",
              "      <td>1.0</td>\n",
              "      <td>0.0</td>\n",
              "      <td>0.0</td>\n",
              "      <td>0.0</td>\n",
              "      <td>0.0</td>\n",
              "      <td>0.0</td>\n",
              "      <td>0.0</td>\n",
              "      <td>0.0</td>\n",
              "      <td>0.0</td>\n",
              "      <td>0.0</td>\n",
              "      <td>...</td>\n",
              "      <td>0.0</td>\n",
              "      <td>1.0</td>\n",
              "      <td>1.0</td>\n",
              "      <td>1.0</td>\n",
              "      <td>1.0</td>\n",
              "      <td>0.0</td>\n",
              "      <td>1.0</td>\n",
              "      <td>0.0</td>\n",
              "      <td>1.0</td>\n",
              "      <td>0.0</td>\n",
              "    </tr>\n",
              "    <tr>\n",
              "      <th>3935</th>\n",
              "      <td>1.0</td>\n",
              "      <td>0.0</td>\n",
              "      <td>0.0</td>\n",
              "      <td>0.0</td>\n",
              "      <td>0.0</td>\n",
              "      <td>0.0</td>\n",
              "      <td>0.0</td>\n",
              "      <td>0.0</td>\n",
              "      <td>0.0</td>\n",
              "      <td>0.0</td>\n",
              "      <td>...</td>\n",
              "      <td>0.0</td>\n",
              "      <td>0.0</td>\n",
              "      <td>0.0</td>\n",
              "      <td>1.0</td>\n",
              "      <td>1.0</td>\n",
              "      <td>0.0</td>\n",
              "      <td>0.0</td>\n",
              "      <td>0.0</td>\n",
              "      <td>1.0</td>\n",
              "      <td>0.0</td>\n",
              "    </tr>\n",
              "    <tr>\n",
              "      <th>4078</th>\n",
              "      <td>1.0</td>\n",
              "      <td>0.0</td>\n",
              "      <td>0.0</td>\n",
              "      <td>0.0</td>\n",
              "      <td>0.0</td>\n",
              "      <td>0.0</td>\n",
              "      <td>0.0</td>\n",
              "      <td>0.0</td>\n",
              "      <td>0.0</td>\n",
              "      <td>0.0</td>\n",
              "      <td>...</td>\n",
              "      <td>0.0</td>\n",
              "      <td>0.0</td>\n",
              "      <td>1.0</td>\n",
              "      <td>1.0</td>\n",
              "      <td>1.0</td>\n",
              "      <td>1.0</td>\n",
              "      <td>1.0</td>\n",
              "      <td>0.0</td>\n",
              "      <td>1.0</td>\n",
              "      <td>0.0</td>\n",
              "    </tr>\n",
              "    <tr>\n",
              "      <th>4086</th>\n",
              "      <td>1.0</td>\n",
              "      <td>0.0</td>\n",
              "      <td>0.0</td>\n",
              "      <td>0.0</td>\n",
              "      <td>0.0</td>\n",
              "      <td>0.0</td>\n",
              "      <td>0.0</td>\n",
              "      <td>0.0</td>\n",
              "      <td>0.0</td>\n",
              "      <td>0.0</td>\n",
              "      <td>...</td>\n",
              "      <td>0.0</td>\n",
              "      <td>1.0</td>\n",
              "      <td>1.0</td>\n",
              "      <td>1.0</td>\n",
              "      <td>0.0</td>\n",
              "      <td>1.0</td>\n",
              "      <td>1.0</td>\n",
              "      <td>0.0</td>\n",
              "      <td>1.0</td>\n",
              "      <td>0.0</td>\n",
              "    </tr>\n",
              "  </tbody>\n",
              "</table>\n",
              "<p>5 rows × 40 columns</p>\n",
              "</div>"
            ],
            "text/plain": [
              "       0    1    2    3    4    5    6    7    8    9  ...    30   31   32  \\\n",
              "1978  1.0  0.0  0.0  1.0  1.0  1.0  1.0  0.0  0.0  1.0 ...   0.0  1.0  1.0   \n",
              "3989  1.0  0.0  0.0  0.0  0.0  0.0  0.0  0.0  0.0  0.0 ...   0.0  1.0  1.0   \n",
              "3935  1.0  0.0  0.0  0.0  0.0  0.0  0.0  0.0  0.0  0.0 ...   0.0  0.0  0.0   \n",
              "4078  1.0  0.0  0.0  0.0  0.0  0.0  0.0  0.0  0.0  0.0 ...   0.0  0.0  1.0   \n",
              "4086  1.0  0.0  0.0  0.0  0.0  0.0  0.0  0.0  0.0  0.0 ...   0.0  1.0  1.0   \n",
              "\n",
              "       33   34   35   36   37   38   39  \n",
              "1978  1.0  1.0  1.0  1.0  0.0  1.0  0.0  \n",
              "3989  1.0  1.0  0.0  1.0  0.0  1.0  0.0  \n",
              "3935  1.0  1.0  0.0  0.0  0.0  1.0  0.0  \n",
              "4078  1.0  1.0  1.0  1.0  0.0  1.0  0.0  \n",
              "4086  1.0  0.0  1.0  1.0  0.0  1.0  0.0  \n",
              "\n",
              "[5 rows x 40 columns]"
            ]
          },
          "metadata": {
            "tags": []
          },
          "execution_count": 23
        }
      ]
    },
    {
      "metadata": {
        "id": "uE_LQs71f5_q",
        "colab_type": "code",
        "colab": {}
      },
      "cell_type": "code",
      "source": [
        "import keras\n",
        "from keras.models import Sequential\n",
        "from keras.layers import Dense\n",
        "from keras.layers import Dropout"
      ],
      "execution_count": 0,
      "outputs": []
    },
    {
      "metadata": {
        "id": "x8R7cbrzgBiz",
        "colab_type": "code",
        "colab": {}
      },
      "cell_type": "code",
      "source": [
        "classifier = Sequential()"
      ],
      "execution_count": 0,
      "outputs": []
    },
    {
      "metadata": {
        "id": "bi6jYC_6gJYA",
        "colab_type": "code",
        "colab": {}
      },
      "cell_type": "code",
      "source": [
        "classifier.add(Dense(units = 20, kernel_initializer = 'uniform', activation = 'relu', input_dim = 40))"
      ],
      "execution_count": 0,
      "outputs": []
    },
    {
      "metadata": {
        "id": "bPsfDgHthU7n",
        "colab_type": "code",
        "colab": {}
      },
      "cell_type": "code",
      "source": [
        "classifier.add(Dense(units = 10, kernel_initializer = 'uniform', activation = 'relu'))"
      ],
      "execution_count": 0,
      "outputs": []
    },
    {
      "metadata": {
        "id": "T9GO76r0hYIF",
        "colab_type": "code",
        "colab": {}
      },
      "cell_type": "code",
      "source": [
        "classifier.add(Dense(units = 5, kernel_initializer = 'uniform', activation = 'relu'))"
      ],
      "execution_count": 0,
      "outputs": []
    },
    {
      "metadata": {
        "id": "JPHur9GvhvAS",
        "colab_type": "code",
        "colab": {}
      },
      "cell_type": "code",
      "source": [
        ""
      ],
      "execution_count": 0,
      "outputs": []
    },
    {
      "metadata": {
        "id": "9WlozYvzh-0x",
        "colab_type": "code",
        "colab": {}
      },
      "cell_type": "code",
      "source": [
        "classifier.add(Dense(units = 1, kernel_initializer = 'uniform', activation = 'sigmoid'))"
      ],
      "execution_count": 0,
      "outputs": []
    },
    {
      "metadata": {
        "id": "-tud5vJUibrO",
        "colab_type": "code",
        "outputId": "cf19b1d3-b354-43e0-fa20-40d78b031ecb",
        "colab": {
          "base_uri": "https://localhost:8080/",
          "height": 3394
        }
      },
      "cell_type": "code",
      "source": [
        "classifier.compile(optimizer = 'adam', loss = 'binary_crossentropy', metrics = ['accuracy'])\n",
        "\n",
        "# Fitting the ANN to the Training set\n",
        "classifier.fit(X_train, Y_train, batch_size = 64, epochs = 100)"
      ],
      "execution_count": 0,
      "outputs": [
        {
          "output_type": "stream",
          "text": [
            "Epoch 1/100\n",
            "4457/4457 [==============================] - 3s 623us/step - loss: 0.6542 - acc: 0.8652\n",
            "Epoch 2/100\n",
            "4457/4457 [==============================] - 0s 95us/step - loss: 0.3601 - acc: 0.8658\n",
            "Epoch 3/100\n",
            "4457/4457 [==============================] - 1s 115us/step - loss: 0.1965 - acc: 0.9035\n",
            "Epoch 4/100\n",
            "4457/4457 [==============================] - 0s 95us/step - loss: 0.1485 - acc: 0.9693\n",
            "Epoch 5/100\n",
            "4457/4457 [==============================] - 0s 99us/step - loss: 0.1145 - acc: 0.9729\n",
            "Epoch 6/100\n",
            "4457/4457 [==============================] - 0s 102us/step - loss: 0.1032 - acc: 0.9726\n",
            "Epoch 7/100\n",
            "4457/4457 [==============================] - 0s 100us/step - loss: 0.1004 - acc: 0.9731\n",
            "Epoch 8/100\n",
            "4457/4457 [==============================] - 0s 102us/step - loss: 0.0977 - acc: 0.9740\n",
            "Epoch 9/100\n",
            "4457/4457 [==============================] - 0s 97us/step - loss: 0.0960 - acc: 0.9742\n",
            "Epoch 10/100\n",
            "4457/4457 [==============================] - 0s 103us/step - loss: 0.0937 - acc: 0.9733\n",
            "Epoch 11/100\n",
            "4457/4457 [==============================] - 0s 97us/step - loss: 0.0937 - acc: 0.9735\n",
            "Epoch 12/100\n",
            "4457/4457 [==============================] - 0s 101us/step - loss: 0.0896 - acc: 0.9746\n",
            "Epoch 13/100\n",
            "4457/4457 [==============================] - 0s 102us/step - loss: 0.0881 - acc: 0.9751\n",
            "Epoch 14/100\n",
            "4457/4457 [==============================] - 0s 98us/step - loss: 0.0863 - acc: 0.9760\n",
            "Epoch 15/100\n",
            "4457/4457 [==============================] - 0s 104us/step - loss: 0.0858 - acc: 0.9751\n",
            "Epoch 16/100\n",
            "4457/4457 [==============================] - 0s 102us/step - loss: 0.0849 - acc: 0.9751\n",
            "Epoch 17/100\n",
            "4457/4457 [==============================] - 0s 104us/step - loss: 0.0842 - acc: 0.9760\n",
            "Epoch 18/100\n",
            "4457/4457 [==============================] - 0s 99us/step - loss: 0.0832 - acc: 0.9760\n",
            "Epoch 19/100\n",
            "4457/4457 [==============================] - 0s 100us/step - loss: 0.0825 - acc: 0.9749\n",
            "Epoch 20/100\n",
            "4457/4457 [==============================] - 0s 102us/step - loss: 0.0825 - acc: 0.9758\n",
            "Epoch 21/100\n",
            "4457/4457 [==============================] - 0s 99us/step - loss: 0.0833 - acc: 0.9769\n",
            "Epoch 22/100\n",
            "4457/4457 [==============================] - 0s 101us/step - loss: 0.0810 - acc: 0.9760\n",
            "Epoch 23/100\n",
            "4457/4457 [==============================] - 0s 99us/step - loss: 0.0800 - acc: 0.9764\n",
            "Epoch 24/100\n",
            "4457/4457 [==============================] - 0s 100us/step - loss: 0.0807 - acc: 0.9755\n",
            "Epoch 25/100\n",
            "4457/4457 [==============================] - 0s 100us/step - loss: 0.0807 - acc: 0.9767\n",
            "Epoch 26/100\n",
            "4457/4457 [==============================] - 0s 97us/step - loss: 0.0806 - acc: 0.9764\n",
            "Epoch 27/100\n",
            "4457/4457 [==============================] - 0s 99us/step - loss: 0.0813 - acc: 0.9760\n",
            "Epoch 28/100\n",
            "4457/4457 [==============================] - 0s 98us/step - loss: 0.0785 - acc: 0.9758\n",
            "Epoch 29/100\n",
            "4457/4457 [==============================] - 0s 100us/step - loss: 0.0790 - acc: 0.9769\n",
            "Epoch 30/100\n",
            "4457/4457 [==============================] - 0s 97us/step - loss: 0.0799 - acc: 0.9778\n",
            "Epoch 31/100\n",
            "4457/4457 [==============================] - 0s 102us/step - loss: 0.0787 - acc: 0.9762\n",
            "Epoch 32/100\n",
            "4457/4457 [==============================] - 0s 97us/step - loss: 0.0778 - acc: 0.9769\n",
            "Epoch 33/100\n",
            "4457/4457 [==============================] - 0s 98us/step - loss: 0.0778 - acc: 0.9767\n",
            "Epoch 34/100\n",
            "4457/4457 [==============================] - 0s 102us/step - loss: 0.0772 - acc: 0.9764\n",
            "Epoch 35/100\n",
            "4457/4457 [==============================] - 0s 97us/step - loss: 0.0776 - acc: 0.9771\n",
            "Epoch 36/100\n",
            "4457/4457 [==============================] - 0s 101us/step - loss: 0.0773 - acc: 0.9782\n",
            "Epoch 37/100\n",
            "4457/4457 [==============================] - 0s 95us/step - loss: 0.0781 - acc: 0.9778\n",
            "Epoch 38/100\n",
            "4457/4457 [==============================] - 0s 102us/step - loss: 0.0770 - acc: 0.9767\n",
            "Epoch 39/100\n",
            "4457/4457 [==============================] - 0s 99us/step - loss: 0.0771 - acc: 0.9771\n",
            "Epoch 40/100\n",
            "4457/4457 [==============================] - 0s 95us/step - loss: 0.0774 - acc: 0.9767\n",
            "Epoch 41/100\n",
            "4457/4457 [==============================] - 0s 101us/step - loss: 0.0773 - acc: 0.9767\n",
            "Epoch 42/100\n",
            "4457/4457 [==============================] - 0s 97us/step - loss: 0.0760 - acc: 0.9776\n",
            "Epoch 43/100\n",
            "4457/4457 [==============================] - 0s 102us/step - loss: 0.0762 - acc: 0.9778\n",
            "Epoch 44/100\n",
            "4457/4457 [==============================] - 0s 97us/step - loss: 0.0758 - acc: 0.9782\n",
            "Epoch 45/100\n",
            "4457/4457 [==============================] - 0s 100us/step - loss: 0.0765 - acc: 0.9789\n",
            "Epoch 46/100\n",
            "4457/4457 [==============================] - 0s 98us/step - loss: 0.0766 - acc: 0.9780\n",
            "Epoch 47/100\n",
            "4457/4457 [==============================] - 0s 99us/step - loss: 0.0760 - acc: 0.9787\n",
            "Epoch 48/100\n",
            "4457/4457 [==============================] - 0s 102us/step - loss: 0.0755 - acc: 0.9773\n",
            "Epoch 49/100\n",
            "4457/4457 [==============================] - 0s 97us/step - loss: 0.0745 - acc: 0.9782\n",
            "Epoch 50/100\n",
            "4457/4457 [==============================] - 0s 102us/step - loss: 0.0763 - acc: 0.9773\n",
            "Epoch 51/100\n",
            "4457/4457 [==============================] - 0s 99us/step - loss: 0.0747 - acc: 0.9776\n",
            "Epoch 52/100\n",
            "4457/4457 [==============================] - 0s 102us/step - loss: 0.0739 - acc: 0.9785\n",
            "Epoch 53/100\n",
            "4457/4457 [==============================] - 0s 97us/step - loss: 0.0748 - acc: 0.9791\n",
            "Epoch 54/100\n",
            "4457/4457 [==============================] - 0s 101us/step - loss: 0.0748 - acc: 0.9780\n",
            "Epoch 55/100\n",
            "4457/4457 [==============================] - 0s 103us/step - loss: 0.0732 - acc: 0.9773\n",
            "Epoch 56/100\n",
            "4457/4457 [==============================] - 0s 96us/step - loss: 0.0734 - acc: 0.9780\n",
            "Epoch 57/100\n",
            "4457/4457 [==============================] - 0s 105us/step - loss: 0.0730 - acc: 0.9796\n",
            "Epoch 58/100\n",
            "4457/4457 [==============================] - 0s 99us/step - loss: 0.0741 - acc: 0.9787\n",
            "Epoch 59/100\n",
            "4457/4457 [==============================] - 0s 102us/step - loss: 0.0736 - acc: 0.9787\n",
            "Epoch 60/100\n",
            "4457/4457 [==============================] - 0s 98us/step - loss: 0.0724 - acc: 0.9787\n",
            "Epoch 61/100\n",
            "4457/4457 [==============================] - 0s 102us/step - loss: 0.0721 - acc: 0.9794\n",
            "Epoch 62/100\n",
            "4457/4457 [==============================] - 0s 99us/step - loss: 0.0720 - acc: 0.9789\n",
            "Epoch 63/100\n",
            "4457/4457 [==============================] - 0s 95us/step - loss: 0.0733 - acc: 0.9789\n",
            "Epoch 64/100\n",
            "4457/4457 [==============================] - 0s 102us/step - loss: 0.0727 - acc: 0.9796\n",
            "Epoch 65/100\n",
            "4457/4457 [==============================] - 0s 96us/step - loss: 0.0727 - acc: 0.9785\n",
            "Epoch 66/100\n",
            "4457/4457 [==============================] - 0s 103us/step - loss: 0.0728 - acc: 0.9782\n",
            "Epoch 67/100\n",
            "4457/4457 [==============================] - 0s 99us/step - loss: 0.0718 - acc: 0.9787\n",
            "Epoch 68/100\n",
            "4457/4457 [==============================] - 0s 102us/step - loss: 0.0746 - acc: 0.9780\n",
            "Epoch 69/100\n",
            "4457/4457 [==============================] - 0s 96us/step - loss: 0.0710 - acc: 0.9798\n",
            "Epoch 70/100\n",
            "4457/4457 [==============================] - 0s 100us/step - loss: 0.0717 - acc: 0.9791\n",
            "Epoch 71/100\n",
            "4457/4457 [==============================] - 0s 99us/step - loss: 0.0721 - acc: 0.9791\n",
            "Epoch 72/100\n",
            "4457/4457 [==============================] - 0s 98us/step - loss: 0.0714 - acc: 0.9800\n",
            "Epoch 73/100\n",
            "4457/4457 [==============================] - 0s 103us/step - loss: 0.0724 - acc: 0.9800\n",
            "Epoch 74/100\n",
            "4457/4457 [==============================] - 0s 101us/step - loss: 0.0708 - acc: 0.9800\n",
            "Epoch 75/100\n",
            "4457/4457 [==============================] - 0s 104us/step - loss: 0.0716 - acc: 0.9800\n",
            "Epoch 76/100\n",
            "4457/4457 [==============================] - 0s 98us/step - loss: 0.0709 - acc: 0.9807\n",
            "Epoch 77/100\n",
            "4457/4457 [==============================] - 0s 103us/step - loss: 0.0708 - acc: 0.9794\n",
            "Epoch 78/100\n",
            "4457/4457 [==============================] - 0s 100us/step - loss: 0.0707 - acc: 0.9794\n",
            "Epoch 79/100\n",
            "4457/4457 [==============================] - 0s 101us/step - loss: 0.0720 - acc: 0.9803\n",
            "Epoch 80/100\n",
            "4457/4457 [==============================] - 0s 104us/step - loss: 0.0701 - acc: 0.9803\n",
            "Epoch 81/100\n",
            "4457/4457 [==============================] - 0s 100us/step - loss: 0.0721 - acc: 0.9798\n",
            "Epoch 82/100\n",
            "4457/4457 [==============================] - 0s 101us/step - loss: 0.0694 - acc: 0.9798\n",
            "Epoch 83/100\n",
            "4457/4457 [==============================] - 0s 98us/step - loss: 0.0698 - acc: 0.9807\n",
            "Epoch 84/100\n",
            "4457/4457 [==============================] - 0s 100us/step - loss: 0.0694 - acc: 0.9791\n",
            "Epoch 85/100\n",
            "4457/4457 [==============================] - 0s 100us/step - loss: 0.0706 - acc: 0.9809\n",
            "Epoch 86/100\n",
            "4457/4457 [==============================] - 0s 97us/step - loss: 0.0706 - acc: 0.9805\n",
            "Epoch 87/100\n",
            "4457/4457 [==============================] - 0s 100us/step - loss: 0.0701 - acc: 0.9800\n",
            "Epoch 88/100\n",
            "4457/4457 [==============================] - 0s 102us/step - loss: 0.0708 - acc: 0.9785\n",
            "Epoch 89/100\n",
            "4457/4457 [==============================] - 0s 103us/step - loss: 0.0700 - acc: 0.9809\n",
            "Epoch 90/100\n",
            "4457/4457 [==============================] - 0s 100us/step - loss: 0.0703 - acc: 0.9796\n",
            "Epoch 91/100\n",
            "4457/4457 [==============================] - 0s 101us/step - loss: 0.0692 - acc: 0.9803\n",
            "Epoch 92/100\n",
            "4457/4457 [==============================] - 0s 98us/step - loss: 0.0701 - acc: 0.9796\n",
            "Epoch 93/100\n",
            "4457/4457 [==============================] - 0s 97us/step - loss: 0.0703 - acc: 0.9794\n",
            "Epoch 94/100\n",
            "4457/4457 [==============================] - 0s 103us/step - loss: 0.0722 - acc: 0.9800\n",
            "Epoch 95/100\n",
            "4457/4457 [==============================] - 0s 98us/step - loss: 0.0695 - acc: 0.9812\n",
            "Epoch 96/100\n",
            "4457/4457 [==============================] - 0s 100us/step - loss: 0.0694 - acc: 0.9803\n",
            "Epoch 97/100\n",
            "4457/4457 [==============================] - 0s 97us/step - loss: 0.0695 - acc: 0.9787\n",
            "Epoch 98/100\n",
            "4457/4457 [==============================] - 0s 102us/step - loss: 0.0699 - acc: 0.9794\n",
            "Epoch 99/100\n",
            "4457/4457 [==============================] - 0s 100us/step - loss: 0.0695 - acc: 0.9803\n",
            "Epoch 100/100\n",
            "4457/4457 [==============================] - 0s 101us/step - loss: 0.0689 - acc: 0.9807\n"
          ],
          "name": "stdout"
        },
        {
          "output_type": "execute_result",
          "data": {
            "text/plain": [
              "<keras.callbacks.History at 0x7fb20b7e9d30>"
            ]
          },
          "metadata": {
            "tags": []
          },
          "execution_count": 45
        }
      ]
    },
    {
      "metadata": {
        "id": "0IcMQkNTjRYy",
        "colab_type": "code",
        "colab": {}
      },
      "cell_type": "code",
      "source": [
        "# Predicting the Test set results\n",
        "y_pred = classifier.predict(X_test)\n",
        "y_pred = (y_pred > 0.5)"
      ],
      "execution_count": 0,
      "outputs": []
    },
    {
      "metadata": {
        "id": "R1Vibaz6pqYx",
        "colab_type": "code",
        "outputId": "2ea10bb8-42bb-4660-cbae-bb4be313a349",
        "colab": {
          "base_uri": "https://localhost:8080/",
          "height": 50
        }
      },
      "cell_type": "code",
      "source": [
        "# Making the Confusion Matrix\n",
        "from sklearn.metrics import confusion_matrix\n",
        "cm = confusion_matrix(Y_test, y_pred)\n",
        "cm"
      ],
      "execution_count": 0,
      "outputs": [
        {
          "output_type": "execute_result",
          "data": {
            "text/plain": [
              "array([[955,  11],\n",
              "       [ 15, 134]])"
            ]
          },
          "metadata": {
            "tags": []
          },
          "execution_count": 50
        }
      ]
    },
    {
      "metadata": {
        "id": "WPDYP_U-EWCC",
        "colab_type": "code",
        "outputId": "6905e1e7-43ea-4202-c58e-4e88c18cc19d",
        "colab": {
          "base_uri": "https://localhost:8080/",
          "height": 364
        }
      },
      "cell_type": "code",
      "source": [
        "import seaborn as sn\n",
        "df_cm=pd.DataFrame(data=cm,index=['Predicted NO','Predicted Yes'],columns=['Actual No','Actual Yes'])\n",
        "sn.heatmap(df_cm, annot=True)"
      ],
      "execution_count": 0,
      "outputs": [
        {
          "output_type": "execute_result",
          "data": {
            "text/plain": [
              "<matplotlib.axes._subplots.AxesSubplot at 0x7fb205b31c50>"
            ]
          },
          "metadata": {
            "tags": []
          },
          "execution_count": 49
        },
        {
          "output_type": "display_data",
          "data": {
            "image/png": "[encoded data removed]",
            "text/plain": [
              "<matplotlib.figure.Figure at 0x7fb205b31358>"
            ]
          },
          "metadata": {
            "tags": []
          }
        }
      ]
    },
    {
      "metadata": {
        "id": "p1QaHxN9EfPg",
        "colab_type": "code",
        "colab": {}
      },
      "cell_type": "code",
      "source": [
        ""
      ],
      "execution_count": 0,
      "outputs": []
    }
  ]
}